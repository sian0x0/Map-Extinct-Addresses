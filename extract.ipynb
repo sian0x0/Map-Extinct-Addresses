{
 "cells": [
  {
   "cell_type": "code",
   "execution_count": 1,
   "metadata": {},
   "outputs": [],
   "source": [
    "import numpy as np\n",
    "import pandas as pd\n",
    "import re\n",
    "\n",
    "#import geopandas as gpd\n",
    "#import shapely.geometry\n",
    "#import pickle\n",
    "#import plotly.express as px"
   ]
  },
  {
   "cell_type": "code",
   "execution_count": 3,
   "metadata": {},
   "outputs": [],
   "source": [
    "#load file into memory\n",
    "with open('1868-BSD-Ballymacarrett-Lennon.htm') as file:\n",
    "    streets = file.read()\n",
    "\n",
    "#as html\n",
    "df_address_list = pd.read_html('your_url')\n"
   ]
  },
  {
   "cell_type": "code",
   "execution_count": null,
   "metadata": {},
   "outputs": [],
   "source": [
    "def address_to_df(html_file):\n",
    "    for line in html_file:\n",
    "        #if it's all caps and bold, put it in StreetName\n",
    "        #if the next line is centred, put it in Location\n",
    "        #if it's got four nbsps, strip and put in Number\n",
    "        #if it's got 1-3 nnsps then a number then a dot, strip and put in NumName\n",
    "        #if it's all caps and not bold, put it in RowCourt\n",
    "        #TODO: deal with 'off', 'see', 'here is', [left side], [right side]"
   ]
  }
 ],
 "metadata": {
  "kernelspec": {
   "display_name": "api_env",
   "language": "python",
   "name": "python3"
  },
  "language_info": {
   "codemirror_mode": {
    "name": "ipython",
    "version": 3
   },
   "file_extension": ".py",
   "mimetype": "text/x-python",
   "name": "python",
   "nbconvert_exporter": "python",
   "pygments_lexer": "ipython3",
   "version": "3.8.17"
  }
 },
 "nbformat": 4,
 "nbformat_minor": 2
}
